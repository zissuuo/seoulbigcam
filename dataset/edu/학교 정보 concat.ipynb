{
 "cells": [
  {
   "cell_type": "code",
   "execution_count": null,
   "metadata": {},
   "outputs": [],
   "source": [
    "import pandas as pd\n",
    "\n",
    "file_paths = [\n",
    "    '강남구', '강동구', '강북구', '강서구', '관악구', '광진구', '구로구', '금천구',\n",
    "    '노원구', '도봉구', '동대문구', '동작구', '마포구', '서대문구', '서초구', '성동구',\n",
    "    '성북구', '송파구', '양천구', '영등포구', '용산구', '은평구', '종로구', '중구', '중랑구'\n",
    "]\n",
    "\n",
    "dataframes = {}\n",
    "\n",
    "for file_path in file_paths:\n",
    "    full_path = f'서울시 자치구별 학교 기본정보/서울시 {file_path} 학교 기본정보.csv'\n",
    "    dataframes[file_path] = pd.read_csv(full_path, encoding='CP949')\n",
    "\n",
    "seoul_sch = pd.concat(dataframes.values(), ignore_index=True)\n"
   ]
  },
  {
   "cell_type": "code",
   "execution_count": null,
   "metadata": {},
   "outputs": [],
   "source": [
    "seoul_sch = seoul_sch[['학교종류명', '학교명', '도로명주소']]\n",
    "seoul_sch.head()"
   ]
  },
  {
   "cell_type": "code",
   "execution_count": null,
   "metadata": {},
   "outputs": [],
   "source": [
    "seoul_sch.to_csv('서울시 초:중:고 학교명.csv', index=False)"
   ]
  },
  {
   "cell_type": "code",
   "execution_count": null,
   "metadata": {},
   "outputs": [],
   "source": []
  }
 ],
 "metadata": {
  "kernelspec": {
   "display_name": "base",
   "language": "python",
   "name": "python3"
  },
  "language_info": {
   "codemirror_mode": {
    "name": "ipython",
    "version": 3
   },
   "file_extension": ".py",
   "mimetype": "text/x-python",
   "name": "python",
   "nbconvert_exporter": "python",
   "pygments_lexer": "ipython3",
   "version": "3.10.9"
  },
  "orig_nbformat": 4
 },
 "nbformat": 4,
 "nbformat_minor": 2
}
