{
 "cells": [
  {
   "cell_type": "code",
   "execution_count": null,
   "metadata": {},
   "outputs": [],
   "source": [
    "import pandas as pd\n",
    "import geopandas as gpd\n",
    "\n",
    "bus = pd.read_csv(\"../dataset/city/서울시 대중교통시설 위치정보_bus.csv\", encoding=\"CP949\")\n",
    "subway = pd.read_csv(\"../dataset/city/서울시 대중교통시설 위치정보_sub.csv\", encoding=\"CP949\")"
   ]
  },
  {
   "attachments": {},
   "cell_type": "markdown",
   "metadata": {},
   "source": [
    "### 지하철 데이터 전처리"
   ]
  },
  {
   "cell_type": "code",
   "execution_count": null,
   "metadata": {},
   "outputs": [],
   "source": [
    "subway.head()"
   ]
  },
  {
   "cell_type": "code",
   "execution_count": null,
   "metadata": {},
   "outputs": [],
   "source": [
    "# 데이터 백틱(`) 제거\n",
    "\n",
    "column_name = subway.columns\n",
    "\n",
    "for i in column_name:\n",
    "    subway[i] = subway[i].str[1:-1]\n",
    "\n",
    "subway.head()"
   ]
  },
  {
   "cell_type": "code",
   "execution_count": null,
   "metadata": {},
   "outputs": [],
   "source": [
    "# 필요 컬럼 추출\n",
    "subway = subway[['`GU_NM`', '`KOR_SUB_NM`', '`POINT_X`', '`POINT_Y`']]\n",
    "\n",
    "# 컬럼명 변경\n",
    "subway = subway.rename(columns={'`GU_NM`': 'gu',\n",
    "                               '`KOR_SUB_NM`': 'sub_name',\n",
    "                               '`POINT_X`':'X_VALUE',\n",
    "                               '`POINT_Y`':'Y_VALUE'})\n",
    "subway.head()\n"
   ]
  },
  {
   "cell_type": "code",
   "execution_count": null,
   "metadata": {},
   "outputs": [],
   "source": [
    "# X,Y좌표 경도 위도로 변환\n",
    "\n",
    "sub = gpd.GeoDataFrame(subway, geometry=gpd.points_from_xy(subway.X_VALUE, subway.Y_VALUE))\n",
    "\n",
    "sub.crs = 'epsg:5181'\n",
    "sub = sub.to_crs('epsg:4326')\n",
    "\n",
    "# 변환 좌표 속성 생성 \n",
    "sub['x'] = sub['geometry'].x\n",
    "sub['y'] = sub['geometry'].y\n",
    "\n",
    "# 필요한 컬럼만 추출해서 저장하기\n",
    "sub = sub[['sub_name', 'x', 'y']]\n",
    "\n",
    "print(sub)"
   ]
  },
  {
   "cell_type": "code",
   "execution_count": null,
   "metadata": {},
   "outputs": [],
   "source": [
    "# 경도/위도로 시도/구/행정동 단위 변환 (카카오 api)\n",
    "\n",
    "import pandas as pd\n",
    "import requests \n",
    "\n",
    "locations = []\n",
    "\n",
    "def get_location(row):\n",
    "    url = 'https://dapi.kakao.com/v2/local/geo/coord2regioncode.json?x={}&y={}'.format(row['x'], row['y'])\n",
    "    headers = {\n",
    "        \"Authorization\": \"KakaoAK 8cd64c4299a983cac6fd3edef103f134\"\n",
    "    }\n",
    "    response = requests.get(url, headers=headers)\n",
    "    \n",
    "    try:\n",
    "        response_json = response.json()\n",
    "        place = response_json['documents'][1]\n",
    "        city = place.get('region_1depth_name')\n",
    "        gu = place.get('region_2depth_name')\n",
    "        dong = place.get('region_3depth_name')\n",
    "        locations.append({'city': city, 'gu': gu, 'dong': dong})\n",
    "    except (IndexError, AttributeError, KeyError):\n",
    "        print('API 호출 오류:', response.text)\n",
    "\n",
    "# 데이터프레임의 각 행에 대해 get_location 함수 호출\n",
    "for i, row in sub.iterrows():\n",
    "    get_location(row)\n",
    "    \n",
    "    # 20개씩 처리될 때 메시지 출력\n",
    "    if i % 20 == 0:\n",
    "        print('{} 번째 경위도 좌표계에 대한 정보 불러오는 중...'.format(i))\n",
    "\n",
    "# 결과를 데이터프레임에 추가\n",
    "sub['city'] = [location.get('city') for location in locations]\n",
    "sub['gu'] = [location.get('gu') for location in locations]\n",
    "sub['dong'] = [location.get('dong') for location in locations]\n"
   ]
  },
  {
   "cell_type": "code",
   "execution_count": null,
   "metadata": {},
   "outputs": [],
   "source": [
    "# 지하철 데이터 저장\n",
    "sub.to_csv('../dataset/city/서울시 지하철역 위치 정보.csv')"
   ]
  },
  {
   "attachments": {},
   "cell_type": "markdown",
   "metadata": {},
   "source": [
    "### 버스 데이터 전처리"
   ]
  },
  {
   "cell_type": "code",
   "execution_count": null,
   "metadata": {},
   "outputs": [],
   "source": [
    "# 데이터 백틱(`) 제거\n",
    "\n",
    "column_name2 = bus.columns\n",
    "\n",
    "for i in column_name2:\n",
    "    bus[i] = bus[i].str[1:-1]\n",
    "bus.head()"
   ]
  },
  {
   "cell_type": "code",
   "execution_count": null,
   "metadata": {},
   "outputs": [],
   "source": [
    "# 필요 컬럼 추출\n",
    "\n",
    "bus = bus[['`BUS_STA_NM`', '`X_COORD`',\t'`Y_COORD`']]\n",
    "bus = bus.rename(columns={'`BUS_STA_NM`': 'name',\n",
    "                        '`X_COORD`': 'x',\n",
    "                        '`Y_COORD`': 'y'})\n",
    "bus"
   ]
  },
  {
   "cell_type": "code",
   "execution_count": null,
   "metadata": {},
   "outputs": [],
   "source": [
    "# 경도/위도로 시도/구/행정동 단위 변환 (카카오 api)\n",
    "\n",
    "import pandas as pd\n",
    "import requests\n",
    "\n",
    "locations = []\n",
    "\n",
    "def get_location(row):\n",
    "    url = 'https://dapi.kakao.com/v2/local/geo/coord2regioncode.json?x={}&y={}'.format(row['x'], row['y'])\n",
    "    headers = {\n",
    "        \"Authorization\": \"KakaoAK 8cd64c4299a983cac6fd3edef103f134\"\n",
    "    }\n",
    "    response = requests.get(url, headers=headers)\n",
    "    \n",
    "    try:\n",
    "        response_json = response.json()\n",
    "        place = response_json['documents'][1]\n",
    "        city = place.get('region_1depth_name')\n",
    "        gu = place.get('region_2depth_name')\n",
    "        dong = place.get('region_3depth_name')\n",
    "        locations.append({'city': city, 'gu': gu, 'dong': dong})\n",
    "    except (IndexError, AttributeError, KeyError):\n",
    "        print('API 호출 오류:', response.text)\n",
    "\n",
    "# 데이터프레임의 각 행에 대해 get_location 함수 호출\n",
    "for i, row in bus.iterrows():\n",
    "    get_location(row)\n",
    "    \n",
    "    # 300개씩 처리될 때 메시지 출력\n",
    "    if i % 300 == 0:\n",
    "        print('{} 번째 경위도 좌표계에 대한 정보 불러오는 중...'.format(i))\n",
    "\n",
    "# 결과를 데이터프레임에 추가\n",
    "bus['city'] = [location.get('city') for location in locations]\n",
    "bus['gu'] = [location.get('gu') for location in locations]\n",
    "bus['dong'] = [location.get('dong') for location in locations]\n"
   ]
  },
  {
   "cell_type": "code",
   "execution_count": null,
   "metadata": {},
   "outputs": [],
   "source": [
    "# 경기도 데이터 제거 및 csv 저장\n",
    "\n",
    "bus = bus[bus['city'] == '서울특별시']\n",
    "bus.to_csv('../dataset/city/서울시 버스 정류장 위치 정보.csv')"
   ]
  },
  {
   "attachments": {},
   "cell_type": "markdown",
   "metadata": {},
   "source": [
    "### 면적 당 지하철역/버스정류장 산출"
   ]
  },
  {
   "cell_type": "code",
   "execution_count": null,
   "metadata": {},
   "outputs": [],
   "source": [
    "bus = pd.read_csv('../dataset/city/서울시 버스 정류장 위치 정보.csv', index_col='')\n",
    "sub = pd.read_csv('../dataset/city/서울시 지하철역 위치 정보.csv', index_col='')"
   ]
  },
  {
   "cell_type": "code",
   "execution_count": null,
   "metadata": {},
   "outputs": [],
   "source": [
    "# 중복 데이터 제거\n",
    "bus_no_dup = bus.drop_duplicates()\n",
    "sub_no_dup = sub.drop_duplicates()"
   ]
  },
  {
   "cell_type": "code",
   "execution_count": null,
   "metadata": {},
   "outputs": [],
   "source": [
    "# 동 별 데이터\n",
    "sub_new = sub_no_dup.groupby(['city', 'gu', 'dong'], as_index=False)['sub_name'].count()\n",
    "bus_new = bus_no_dup.groupby(['city', 'gu', 'dong'], as_index=False)['name'].count()"
   ]
  },
  {
   "cell_type": "code",
   "execution_count": null,
   "metadata": {},
   "outputs": [],
   "source": [
    "# 행정동별 면적 데이터 로드\n",
    "\n",
    "area = pd.read_csv(\"../dataset/city/행정동별 면적.csv\")\n",
    "\n",
    "area = area.drop(area.index[0:3])                   # 필요없는 데이터 정리\n",
    "area = area.reset_index(drop=True)                  # 인덱스 리셋\n",
    "area = area.drop('동별(1)', axis=1)                  # 필요없는 컬럼 삭제\n",
    "area = area.rename(columns={'동별(2)': 'gu',\n",
    "                            '동별(3)':'dong',\n",
    "                            '2022':'area_km2'})     # 컬럼명 변경\n",
    "\n",
    "area.head()"
   ]
  },
  {
   "cell_type": "code",
   "execution_count": null,
   "metadata": {},
   "outputs": [],
   "source": [
    "# 면적 당 지하철역 갯수 산출\n",
    "\n",
    "sub_merge = sub_new.merge(area[['gu', 'dong', 'area_km2']], on=['gu','dong'], how = 'left')\n",
    "sub_merge['area_km2'] = sub_merge['area_km2'].astype(float)\n",
    "sub_merge['density_sub'] = sub_merge['sub_name'] / sub_merge['area_km2']"
   ]
  },
  {
   "cell_type": "code",
   "execution_count": null,
   "metadata": {},
   "outputs": [],
   "source": [
    "# 면적 당 버스 정류장 갯수 산출\n",
    "\n",
    "bus_merge = bus_new.merge(area[['gu', 'dong', 'area_km2']], on=['gu','dong'], how = 'left')\n",
    "bus_merge['area_km2'] = bus_merge['area_km2'].astype(float)\n",
    "bus_merge['density_bus'] = bus_merge['name'] / bus_merge['area_km2']\n",
    "bus_merge"
   ]
  },
  {
   "cell_type": "code",
   "execution_count": null,
   "metadata": {},
   "outputs": [],
   "source": [
    "bus_merge = bus_merge.rename(columns={'gu': '구', 'dong': '동',\n",
    "                             'name': '정류장 수',\n",
    "                             'area_km2':'면적(km2)',\n",
    "                             'density_bus':'면적당 정류장 수'})\n",
    "\n",
    "bus_merge = bus_merge[['구', '동', '정류장 수', '면적(km2)', '면적당 정류장 수']]\n",
    "bus_merge.to_csv('../dataset/city/도시_면적당 정류장 수_동별_2023.csv',index=False)"
   ]
  },
  {
   "cell_type": "code",
   "execution_count": null,
   "metadata": {},
   "outputs": [],
   "source": [
    "sub_merge = sub_merge.rename(columns={'gu': '구', 'dong': '동',\n",
    "                             'sub_name': '지하철역 수',\n",
    "                             'area_km2':'면적(km2)',\n",
    "                             'density_sub':'면적당 지하철역 수'})\n",
    "\n",
    "sub_merge = sub_merge[['구', '동', '지하철역 수', '면적(km2)', '면적당 지하철역 수']]\n",
    "sub_merge.to_csv('../dataset/city/도시_면적당 지하철역 수_동별_2023.csv',index=False)"
   ]
  },
  {
   "cell_type": "code",
   "execution_count": null,
   "metadata": {},
   "outputs": [],
   "source": []
  }
 ],
 "metadata": {
  "kernelspec": {
   "display_name": "base",
   "language": "python",
   "name": "python3"
  },
  "language_info": {
   "codemirror_mode": {
    "name": "ipython",
    "version": 3
   },
   "file_extension": ".py",
   "mimetype": "text/x-python",
   "name": "python",
   "nbconvert_exporter": "python",
   "pygments_lexer": "ipython3",
   "version": "3.10.9"
  },
  "orig_nbformat": 4
 },
 "nbformat": 4,
 "nbformat_minor": 2
}
