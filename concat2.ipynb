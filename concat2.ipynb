{
 "cells": [
  {
   "cell_type": "code",
   "execution_count": 2,
   "metadata": {},
   "outputs": [
    {
     "name": "stdout",
     "output_type": "stream",
     "text": [
      "Intel MKL WARNING: Support of Intel(R) Streaming SIMD Extensions 4.2 (Intel(R) SSE4.2) enabled only processors has been deprecated. Intel oneAPI Math Kernel Library 2025.0 will require Intel(R) Advanced Vector Extensions (Intel(R) AVX) instructions.\n",
      "Intel MKL WARNING: Support of Intel(R) Streaming SIMD Extensions 4.2 (Intel(R) SSE4.2) enabled only processors has been deprecated. Intel oneAPI Math Kernel Library 2025.0 will require Intel(R) Advanced Vector Extensions (Intel(R) AVX) instructions.\n"
     ]
    }
   ],
   "source": [
    "import pandas as pd"
   ]
  },
  {
   "cell_type": "code",
   "execution_count": 3,
   "metadata": {},
   "outputs": [],
   "source": [
    "gm = pd.read_csv('/Users/kimjisu/Desktop/seoulbigcam/Raw Data/서울시 자치구별 학교 기본정보/서울시 강남구 학교 기본정보.csv', encoding = 'CP949')\n",
    "gd = pd.read_csv('/Users/kimjisu/Desktop/seoulbigcam/Raw Data/서울시 자치구별 학교 기본정보/서울시 강동구 학교 기본정보.csv', encoding = 'CP949')\n",
    "gb = pd.read_csv('/Users/kimjisu/Desktop/seoulbigcam/Raw Data/서울시 자치구별 학교 기본정보/서울시 강북구 학교 기본정보.csv', encoding = 'CP949')\n",
    "gs = pd.read_csv('/Users/kimjisu/Desktop/seoulbigcam/Raw Data/서울시 자치구별 학교 기본정보/서울시 강서구 학교 기본정보.csv', encoding = 'CP949')\n",
    "gw = pd.read_csv('/Users/kimjisu/Desktop/seoulbigcam/Raw Data/서울시 자치구별 학교 기본정보/서울시 관악구 학교 기본정보.csv', encoding = 'CP949')\n",
    "gj = pd.read_csv('/Users/kimjisu/Desktop/seoulbigcam/Raw Data/서울시 자치구별 학교 기본정보/서울시 광진구 학교 기본정보.csv', encoding = 'CP949')\n",
    "gr = pd.read_csv('/Users/kimjisu/Desktop/seoulbigcam/Raw Data/서울시 자치구별 학교 기본정보/서울시 구로구 학교 기본정보.csv', encoding = 'CP949')\n",
    "gc = pd.read_csv('/Users/kimjisu/Desktop/seoulbigcam/Raw Data/서울시 자치구별 학교 기본정보/서울시 금천구 학교 기본정보.csv', encoding = 'CP949')\n",
    "nw = pd.read_csv('/Users/kimjisu/Desktop/seoulbigcam/Raw Data/서울시 자치구별 학교 기본정보/서울시 노원구 학교 기본정보.csv', encoding = 'CP949')\n",
    "db = pd.read_csv('/Users/kimjisu/Desktop/seoulbigcam/Raw Data/서울시 자치구별 학교 기본정보/서울시 도봉구 학교 기본정보.csv', encoding = 'CP949')\n",
    "ddm = pd.read_csv('/Users/kimjisu/Desktop/seoulbigcam/Raw Data/서울시 자치구별 학교 기본정보/서울시 동대문구 학교 기본정보.csv', encoding = 'CP949')\n",
    "dj = pd.read_csv('/Users/kimjisu/Desktop/seoulbigcam/Raw Data/서울시 자치구별 학교 기본정보/서울시 동작구 학교 기본정보.csv', encoding = 'CP949')\n",
    "mp = pd.read_csv('/Users/kimjisu/Desktop/seoulbigcam/Raw Data/서울시 자치구별 학교 기본정보/서울시 마포구 학교 기본정보.csv', encoding = 'CP949')\n",
    "sdm = pd.read_csv('/Users/kimjisu/Desktop/seoulbigcam/Raw Data/서울시 자치구별 학교 기본정보/서울시 서대문구 학교 기본정보.csv', encoding = 'CP949')\n",
    "sc = pd.read_csv('/Users/kimjisu/Desktop/seoulbigcam/Raw Data/서울시 자치구별 학교 기본정보/서울시 서초구 학교 기본정보.csv', encoding = 'CP949')\n",
    "sd = pd.read_csv('/Users/kimjisu/Desktop/seoulbigcam/Raw Data/서울시 자치구별 학교 기본정보/서울시 성동구 학교 기본정보.csv', encoding = 'CP949')\n",
    "sb = pd.read_csv('/Users/kimjisu/Desktop/seoulbigcam/Raw Data/서울시 자치구별 학교 기본정보/서울시 성북구 학교 기본정보.csv', encoding = 'CP949')\n",
    "sp = pd.read_csv('/Users/kimjisu/Desktop/seoulbigcam/Raw Data/서울시 자치구별 학교 기본정보/서울시 송파구 학교 기본정보.csv', encoding = 'CP949')\n",
    "yc = pd.read_csv('/Users/kimjisu/Desktop/seoulbigcam/Raw Data/서울시 자치구별 학교 기본정보/서울시 양천구 학교 기본정보.csv', encoding = 'CP949')\n",
    "ydp = pd.read_csv('/Users/kimjisu/Desktop/seoulbigcam/Raw Data/서울시 자치구별 학교 기본정보/서울시 영등포구 학교 기본정보.csv', encoding = 'CP949')\n",
    "ys = pd.read_csv('/Users/kimjisu/Desktop/seoulbigcam/Raw Data/서울시 자치구별 학교 기본정보/서울시 용산구 학교 기본정보.csv', encoding = 'CP949')\n",
    "ep = pd.read_csv('/Users/kimjisu/Desktop/seoulbigcam/Raw Data/서울시 자치구별 학교 기본정보/서울시 은평구 학교 기본정보.csv', encoding = 'CP949')\n",
    "jr = pd.read_csv('/Users/kimjisu/Desktop/seoulbigcam/Raw Data/서울시 자치구별 학교 기본정보/서울시 종로구 학교 기본정보.csv', encoding = 'CP949')\n",
    "jo = pd.read_csv('/Users/kimjisu/Desktop/seoulbigcam/Raw Data/서울시 자치구별 학교 기본정보/서울시 중구 학교 기본정보.csv', encoding = 'CP949')\n",
    "jra = pd.read_csv('/Users/kimjisu/Desktop/seoulbigcam/Raw Data/서울시 자치구별 학교 기본정보/서울시 중랑구 학교 기본정보.csv', encoding = 'CP949')"
   ]
  },
  {
   "cell_type": "code",
   "execution_count": 4,
   "metadata": {},
   "outputs": [],
   "source": [
    "seoul_sch = pd.concat([gm, gd, gb, gs, gw,\n",
    "                       gj, gr, gc, nw, db,\n",
    "                       ddm, dj, mp, sdm, sc,\n",
    "                       sd, sb, sp, yc, ydp,\n",
    "                       ys, ep, jr, jo, jra])"
   ]
  },
  {
   "cell_type": "code",
   "execution_count": 5,
   "metadata": {},
   "outputs": [],
   "source": [
    "seoul_sch = seoul_sch[['학교종류명', '학교명', '도로명주소']]"
   ]
  },
  {
   "cell_type": "code",
   "execution_count": 7,
   "metadata": {},
   "outputs": [],
   "source": [
    "seoul_sch = seoul_sch.reset_index()"
   ]
  },
  {
   "cell_type": "code",
   "execution_count": 8,
   "metadata": {},
   "outputs": [],
   "source": [
    "seoul_sch.to_csv('/Users/kimjisu/Desktop/seoulbigcam/Preprocessed Data/서울시 초:중:고 학교명.csv')"
   ]
  },
  {
   "cell_type": "code",
   "execution_count": null,
   "metadata": {},
   "outputs": [],
   "source": []
  }
 ],
 "metadata": {
  "kernelspec": {
   "display_name": "base",
   "language": "python",
   "name": "python3"
  },
  "language_info": {
   "codemirror_mode": {
    "name": "ipython",
    "version": 3
   },
   "file_extension": ".py",
   "mimetype": "text/x-python",
   "name": "python",
   "nbconvert_exporter": "python",
   "pygments_lexer": "ipython3",
   "version": "3.9.18"
  },
  "orig_nbformat": 4
 },
 "nbformat": 4,
 "nbformat_minor": 2
}
