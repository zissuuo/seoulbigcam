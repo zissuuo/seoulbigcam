{
 "cells": [
  {
   "cell_type": "code",
   "execution_count": null,
   "metadata": {},
   "outputs": [],
   "source": [
    "import pandas as pd\n",
    "import numpy as np"
   ]
  },
  {
   "cell_type": "code",
   "execution_count": null,
   "metadata": {},
   "outputs": [],
   "source": [
    "institute = pd.read_csv('../Dataset/edu/서울시 학원 데이터 전처리.csvv')\n",
    "institute = institute[['학원명', '도로명주소']]\n",
    "institute = institute.drop_duplicates()\n",
    "institute = institute.reset_index(drop=True)\n",
    "institute"
   ]
  },
  {
   "cell_type": "code",
   "execution_count": null,
   "metadata": {},
   "outputs": [],
   "source": [
    "addrs = institute['도로명주소']"
   ]
  },
  {
   "cell_type": "code",
   "execution_count": null,
   "metadata": {},
   "outputs": [],
   "source": [
    "import requests\n",
    "import json\n",
    "\n",
    "locations = []\n",
    "for addr in addrs:\n",
    "    url = 'https://dapi.kakao.com/v2/local/search/address.json?query={}'.format(addr)\n",
    "    headers = {\n",
    "    ## 카카오 API의 REST API키를 아래 예시와 같이 입력해주세요\n",
    "    ## \"Authorization\": \"KakaoAK REST API키 입력 gogo\"}\n",
    "    \"Authorization\": \"KakaoAK 8cd64c4299a983cac6fd3edef103f134\"}\n",
    "    place = requests.get(url, headers = headers).json()['documents']\n",
    "    locations.append(place)"
   ]
  },
  {
   "cell_type": "code",
   "execution_count": null,
   "metadata": {},
   "outputs": [],
   "source": [
    "city = [] ## 구\n",
    "town = [] ## 행정동\n",
    "for i in range(len(locations)):\n",
    "    \n",
    "    try:\n",
    "        city.append(locations[i][0].get('address').get('region_2depth_name'))\n",
    "        town.append(locations[i][0].get('address').get('region_3depth_h_name'))\n",
    "        \n",
    "    except IndexError:\n",
    "        print(i,'번째 주소 못가져옴', end ='')\n",
    "        print()\n",
    "        city.append('없음')\n",
    "        town.append('없음')\n",
    "    \n",
    "    except AttributeError:\n",
    "        city.append(locations[i][0].get('road_address').get('region_2depth_name'))\n",
    "        town.append(locations[i][0].get('road_address').get('region_3depth_h_name'))"
   ]
  },
  {
   "cell_type": "code",
   "execution_count": null,
   "metadata": {},
   "outputs": [],
   "source": [
    "city_town = np.array([city,town]).T\n",
    "df_temp = pd.DataFrame(city_town, columns = ['region_2depth_name','region_3depth_h_name'])\n",
    "df_temp.head()"
   ]
  },
  {
   "cell_type": "code",
   "execution_count": null,
   "metadata": {},
   "outputs": [],
   "source": [
    "institute['구'] = df_temp['region_2depth_name']\n",
    "institute['동'] = df_temp['region_3depth_h_name']\n",
    "institute.head()"
   ]
  },
  {
   "cell_type": "code",
   "execution_count": null,
   "metadata": {},
   "outputs": [],
   "source": [
    "# 데이터 타입 변환\n",
    "\n",
    "institute['구'] = institute['구'].astype(str)\n",
    "institute['동'] = institute['동'].astype(str)"
   ]
  },
  {
   "cell_type": "code",
   "execution_count": null,
   "metadata": {},
   "outputs": [],
   "source": [
    "in_na = institute[institute['동'] == '없음']\n",
    "in_na = in_na.reset_index(drop=True)\n",
    "in_na"
   ]
  },
  {
   "cell_type": "code",
   "execution_count": null,
   "metadata": {},
   "outputs": [],
   "source": [
    "in_na = in_na.dropna()\n",
    "in_na"
   ]
  },
  {
   "cell_type": "code",
   "execution_count": null,
   "metadata": {},
   "outputs": [],
   "source": [
    "addrs2 = in_na['도로명주소']\n",
    "addrs2"
   ]
  },
  {
   "cell_type": "code",
   "execution_count": null,
   "metadata": {},
   "outputs": [],
   "source": [
    "in_na.to_csv('../Dataset/edu/오류값.csv', index=False)"
   ]
  },
  {
   "cell_type": "code",
   "execution_count": null,
   "metadata": {},
   "outputs": [],
   "source": [
    "from geopy.geocoders import Nominatim\n",
    "\n",
    "list = []\n",
    "\n",
    "def geocoding(address):\n",
    "    geolocoder = Nominatim(user_agent = 'South Korea', timeout=None)\n",
    "    geo = geolocoder.geocode(address)\n",
    "    crd = {\"lat\": str(geo.latitude), \"lng\": str(geo.longitude)}\n",
    "\n",
    "    return crd"
   ]
  },
  {
   "cell_type": "code",
   "execution_count": null,
   "metadata": {},
   "outputs": [],
   "source": [
    "for i in range(133):\n",
    "    try:\n",
    "        crd = geocoding(addrs2[i])\n",
    "        if crd is not None:\n",
    "            list.append(crd)\n",
    "        else:\n",
    "            list.append({\"lat\": 0, \"lng\": 0})            # 결측치 0기재\n",
    "            print('{} 번째 좌표를 불러오지 못함'.format(i))\n",
    "    \n",
    "        if i % 10 == 0:\n",
    "            print('{} 번째 좌표 정보 불러오는 중...'.format(i))\n",
    "\n",
    "    except Exception as e:\n",
    "        list.append({\"lat\": 0, \"lng\": 0})                # 결측치 0기재\n",
    "        print('{} 번째 데이터 오류 발생'.format(i))"
   ]
  },
  {
   "cell_type": "code",
   "execution_count": null,
   "metadata": {},
   "outputs": [],
   "source": [
    "add = pd.DataFrame(list)\n",
    "in_na['x'] = add['lng']\n",
    "in_na['y'] = add['lat']\n",
    "in_na"
   ]
  },
  {
   "cell_type": "code",
   "execution_count": null,
   "metadata": {},
   "outputs": [],
   "source": [
    "error = pd.read_csv('../Dataset/edu/오류값.csv')\n",
    "error.columns"
   ]
  },
  {
   "cell_type": "code",
   "execution_count": null,
   "metadata": {},
   "outputs": [],
   "source": [
    "error = error.rename(columns= {'학원명': '학원명',\n",
    "                               '도로명주소': '도로명주소',\n",
    "                               '구': '구',\n",
    "                               '동': '동',\n",
    "                               '\bx': 'x',\n",
    "                               'y': 'y'})"
   ]
  },
  {
   "cell_type": "code",
   "execution_count": null,
   "metadata": {},
   "outputs": [],
   "source": [
    "import pandas as pd\n",
    "import requests\n",
    "\n",
    "locations = []\n",
    "\n",
    "def get_location(row):\n",
    "    url = 'https://dapi.kakao.com/v2/local/geo/coord2regioncode.json?x={}&y={}'.format(row['x'], row['y'])\n",
    "    headers = {\n",
    "        \"Authorization\": \"KakaoAK 8cd64c4299a983cac6fd3edef103f134\"\n",
    "    }\n",
    "    response = requests.get(url, headers=headers)\n",
    "    \n",
    "    try:\n",
    "        response_json = response.json()\n",
    "        place = response_json['documents'][1]\n",
    "        gu = place.get('region_2depth_name')\n",
    "        dong = place.get('region_3depth_name')\n",
    "        locations.append({'gu': gu, 'dong': dong})\n",
    "    except (IndexError, AttributeError, KeyError):\n",
    "        print('API 호출 오류:', response.text)\n",
    "\n",
    "# 데이터프레임의 각 행에 대해 get_location 함수 호출\n",
    "for i, row in error.iterrows():\n",
    "    get_location(row)\n",
    "    \n",
    "    # 20개씩 처리될 때 메시지 출력\n",
    "    if i % 20 == 0:\n",
    "        print('{} 번째 경위도 좌표계에 대한 정보 불러오는 중...'.format(i))\n",
    "\n",
    "# 결과를 데이터프레임에 추가\n",
    "error['구'] = [location.get('gu') for location in locations]\n",
    "error['동'] = [location.get('dong') for location in locations]\n"
   ]
  },
  {
   "cell_type": "code",
   "execution_count": null,
   "metadata": {},
   "outputs": [],
   "source": [
    "error.columns"
   ]
  },
  {
   "cell_type": "code",
   "execution_count": null,
   "metadata": {},
   "outputs": [],
   "source": [
    "institute.info"
   ]
  },
  {
   "cell_type": "code",
   "execution_count": null,
   "metadata": {},
   "outputs": [],
   "source": [
    "institute"
   ]
  },
  {
   "cell_type": "code",
   "execution_count": null,
   "metadata": {},
   "outputs": [],
   "source": [
    "error.info()\n",
    "error2 = error[['학원명', '도로명주소', '구', '동']]"
   ]
  },
  {
   "cell_type": "code",
   "execution_count": null,
   "metadata": {},
   "outputs": [],
   "source": [
    "inst2 = institute[institute['동'] != '없음']\n",
    "inst2 = institute[institute['구'] != '없음']\n",
    "inst2.info()"
   ]
  },
  {
   "cell_type": "code",
   "execution_count": null,
   "metadata": {},
   "outputs": [],
   "source": [
    "inst_new = pd.concat([inst2, error2], axis=0)\n",
    "inst_new.info()"
   ]
  },
  {
   "cell_type": "code",
   "execution_count": null,
   "metadata": {},
   "outputs": [],
   "source": [
    "inst_new = inst_new.reset_index(drop=True)\n",
    "inst_new\n"
   ]
  },
  {
   "cell_type": "code",
   "execution_count": null,
   "metadata": {},
   "outputs": [],
   "source": [
    "inst = inst_new[inst_new['동'] != 'None']"
   ]
  },
  {
   "cell_type": "code",
   "execution_count": null,
   "metadata": {},
   "outputs": [],
   "source": [
    "in3 = inst.groupby(['구', '동'], as_index=False)['학원명'].count()\n",
    "in3"
   ]
  },
  {
   "cell_type": "code",
   "execution_count": null,
   "metadata": {},
   "outputs": [],
   "source": [
    "in3.to_csv('../Dataset/edu/교육_학교 수_동별_2023.csv', index=False)"
   ]
  },
  {
   "cell_type": "code",
   "execution_count": null,
   "metadata": {},
   "outputs": [],
   "source": []
  }
 ],
 "metadata": {
  "kernelspec": {
   "display_name": "base",
   "language": "python",
   "name": "python3"
  },
  "language_info": {
   "codemirror_mode": {
    "name": "ipython",
    "version": 3
   },
   "file_extension": ".py",
   "mimetype": "text/x-python",
   "name": "python",
   "nbconvert_exporter": "python",
   "pygments_lexer": "ipython3",
   "version": "3.10.9"
  }
 },
 "nbformat": 4,
 "nbformat_minor": 2
}
